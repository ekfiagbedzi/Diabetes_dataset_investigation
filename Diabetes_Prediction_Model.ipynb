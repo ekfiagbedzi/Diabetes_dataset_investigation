{
 "cells": [
  {
   "cell_type": "markdown",
   "metadata": {},
   "source": [
    "# DIABETES RISK PREDICTION\n",
    "* This notebook sought to create a model that can predict a person's diabetic status based on characteristics such as blood glucose levels, blood pressure and Age e.t.c. The main objectives are;\n",
    "1. To find out characteristics of a person such as age and blood glucose levels relate their diabetes status.\n",
    "2. To extract the relevant features from these characteristics.\n",
    "3. Build a model that utilizes these features to make predictions diabetes status with high accuracy."
   ]
  },
  {
   "cell_type": "markdown",
   "metadata": {},
   "source": [
    "## 1.1 Loading and Cleaning the dataset\n",
    "In machine learning, it is essential that the datset you are using have been properly preprocessed before modelling. Preprocessing include;\n",
    "1. Ensuring the data is properly formatted in terms of column names and rows.\n",
    "2. Ensuring there are no missing values by imputing the data.\n",
    "3. Ensuring there are no duplicate rows in the data since they can cause wrong inferences."
   ]
  },
  {
   "cell_type": "code",
   "execution_count": 19,
   "metadata": {},
   "outputs": [],
   "source": [
    "# import the relevant sci-kit learn methods\n",
    "from sklearn import metrics\n",
    "from sklearn.model_selection import cross_val_score, train_test_split, GridSearchCV, RandomizedSearchCV\n",
    "from sklearn.naive_bayes import GaussianNB\n",
    "from sklearn.decomposition import PCA\n",
    "from sklearn.feature_selection import SelectKBest, chi2\n",
    "from sklearn.linear_model import LogisticRegression\n",
    "from sklearn.preprocessing import PolynomialFeatures, LabelBinarizer, RobustScaler, StandardScaler\n",
    "from sklearn.pipeline import Pipeline\n",
    "from sklearn.neighbors import KNeighborsClassifier\n",
    "from sklearn.dummy import DummyClassifier\n",
    "from sklearn.ensemble import RandomForestClassifier, VotingClassifier\n",
    "\n",
    "# import relevant models for visualization and analysis\n",
    "from statannot import add_stat_annotation\n",
    "import numpy as np\n",
    "import pandas as pd\n",
    "import matplotlib.pyplot as plt\n",
    "import seaborn as sns\n",
    "from scipy import stats\n",
    "from collections import Counter\n",
    "from mlxtend.evaluate import paired_ttest_5x2cv\n",
    "%matplotlib inline\n",
    "_ = sns.set()"
   ]
  },
  {
   "cell_type": "code",
   "execution_count": 20,
   "metadata": {},
   "outputs": [
    {
     "data": {
      "text/html": [
       "<div>\n",
       "<style scoped>\n",
       "    .dataframe tbody tr th:only-of-type {\n",
       "        vertical-align: middle;\n",
       "    }\n",
       "\n",
       "    .dataframe tbody tr th {\n",
       "        vertical-align: top;\n",
       "    }\n",
       "\n",
       "    .dataframe thead th {\n",
       "        text-align: right;\n",
       "    }\n",
       "</style>\n",
       "<table border=\"1\" class=\"dataframe\">\n",
       "  <thead>\n",
       "    <tr style=\"text-align: right;\">\n",
       "      <th></th>\n",
       "      <th>Pregnancies</th>\n",
       "      <th>Glucose</th>\n",
       "      <th>BloodPressure</th>\n",
       "      <th>SkinThickness</th>\n",
       "      <th>Insulin</th>\n",
       "      <th>BMI</th>\n",
       "      <th>DiabetesPedigreeFunction</th>\n",
       "      <th>Age</th>\n",
       "      <th>Outcome</th>\n",
       "    </tr>\n",
       "  </thead>\n",
       "  <tbody>\n",
       "    <tr>\n",
       "      <th>0</th>\n",
       "      <td>6</td>\n",
       "      <td>148</td>\n",
       "      <td>72</td>\n",
       "      <td>35</td>\n",
       "      <td>0</td>\n",
       "      <td>33.6</td>\n",
       "      <td>0.627</td>\n",
       "      <td>50</td>\n",
       "      <td>1</td>\n",
       "    </tr>\n",
       "    <tr>\n",
       "      <th>1</th>\n",
       "      <td>1</td>\n",
       "      <td>85</td>\n",
       "      <td>66</td>\n",
       "      <td>29</td>\n",
       "      <td>0</td>\n",
       "      <td>26.6</td>\n",
       "      <td>0.351</td>\n",
       "      <td>31</td>\n",
       "      <td>0</td>\n",
       "    </tr>\n",
       "    <tr>\n",
       "      <th>2</th>\n",
       "      <td>8</td>\n",
       "      <td>183</td>\n",
       "      <td>64</td>\n",
       "      <td>0</td>\n",
       "      <td>0</td>\n",
       "      <td>23.3</td>\n",
       "      <td>0.672</td>\n",
       "      <td>32</td>\n",
       "      <td>1</td>\n",
       "    </tr>\n",
       "    <tr>\n",
       "      <th>3</th>\n",
       "      <td>1</td>\n",
       "      <td>89</td>\n",
       "      <td>66</td>\n",
       "      <td>23</td>\n",
       "      <td>94</td>\n",
       "      <td>28.1</td>\n",
       "      <td>0.167</td>\n",
       "      <td>21</td>\n",
       "      <td>0</td>\n",
       "    </tr>\n",
       "    <tr>\n",
       "      <th>4</th>\n",
       "      <td>0</td>\n",
       "      <td>137</td>\n",
       "      <td>40</td>\n",
       "      <td>35</td>\n",
       "      <td>168</td>\n",
       "      <td>43.1</td>\n",
       "      <td>2.288</td>\n",
       "      <td>33</td>\n",
       "      <td>1</td>\n",
       "    </tr>\n",
       "    <tr>\n",
       "      <th>...</th>\n",
       "      <td>...</td>\n",
       "      <td>...</td>\n",
       "      <td>...</td>\n",
       "      <td>...</td>\n",
       "      <td>...</td>\n",
       "      <td>...</td>\n",
       "      <td>...</td>\n",
       "      <td>...</td>\n",
       "      <td>...</td>\n",
       "    </tr>\n",
       "    <tr>\n",
       "      <th>763</th>\n",
       "      <td>10</td>\n",
       "      <td>101</td>\n",
       "      <td>76</td>\n",
       "      <td>48</td>\n",
       "      <td>180</td>\n",
       "      <td>32.9</td>\n",
       "      <td>0.171</td>\n",
       "      <td>63</td>\n",
       "      <td>0</td>\n",
       "    </tr>\n",
       "    <tr>\n",
       "      <th>764</th>\n",
       "      <td>2</td>\n",
       "      <td>122</td>\n",
       "      <td>70</td>\n",
       "      <td>27</td>\n",
       "      <td>0</td>\n",
       "      <td>36.8</td>\n",
       "      <td>0.340</td>\n",
       "      <td>27</td>\n",
       "      <td>0</td>\n",
       "    </tr>\n",
       "    <tr>\n",
       "      <th>765</th>\n",
       "      <td>5</td>\n",
       "      <td>121</td>\n",
       "      <td>72</td>\n",
       "      <td>23</td>\n",
       "      <td>112</td>\n",
       "      <td>26.2</td>\n",
       "      <td>0.245</td>\n",
       "      <td>30</td>\n",
       "      <td>0</td>\n",
       "    </tr>\n",
       "    <tr>\n",
       "      <th>766</th>\n",
       "      <td>1</td>\n",
       "      <td>126</td>\n",
       "      <td>60</td>\n",
       "      <td>0</td>\n",
       "      <td>0</td>\n",
       "      <td>30.1</td>\n",
       "      <td>0.349</td>\n",
       "      <td>47</td>\n",
       "      <td>1</td>\n",
       "    </tr>\n",
       "    <tr>\n",
       "      <th>767</th>\n",
       "      <td>1</td>\n",
       "      <td>93</td>\n",
       "      <td>70</td>\n",
       "      <td>31</td>\n",
       "      <td>0</td>\n",
       "      <td>30.4</td>\n",
       "      <td>0.315</td>\n",
       "      <td>23</td>\n",
       "      <td>0</td>\n",
       "    </tr>\n",
       "  </tbody>\n",
       "</table>\n",
       "<p>768 rows × 9 columns</p>\n",
       "</div>"
      ],
      "text/plain": [
       "     Pregnancies  Glucose  BloodPressure  SkinThickness  Insulin   BMI  \\\n",
       "0              6      148             72             35        0  33.6   \n",
       "1              1       85             66             29        0  26.6   \n",
       "2              8      183             64              0        0  23.3   \n",
       "3              1       89             66             23       94  28.1   \n",
       "4              0      137             40             35      168  43.1   \n",
       "..           ...      ...            ...            ...      ...   ...   \n",
       "763           10      101             76             48      180  32.9   \n",
       "764            2      122             70             27        0  36.8   \n",
       "765            5      121             72             23      112  26.2   \n",
       "766            1      126             60              0        0  30.1   \n",
       "767            1       93             70             31        0  30.4   \n",
       "\n",
       "     DiabetesPedigreeFunction  Age  Outcome  \n",
       "0                       0.627   50        1  \n",
       "1                       0.351   31        0  \n",
       "2                       0.672   32        1  \n",
       "3                       0.167   21        0  \n",
       "4                       2.288   33        1  \n",
       "..                        ...  ...      ...  \n",
       "763                     0.171   63        0  \n",
       "764                     0.340   27        0  \n",
       "765                     0.245   30        0  \n",
       "766                     0.349   47        1  \n",
       "767                     0.315   23        0  \n",
       "\n",
       "[768 rows x 9 columns]"
      ]
     },
     "execution_count": 20,
     "metadata": {},
     "output_type": "execute_result"
    }
   ],
   "source": [
    "# load in the the dataset and view the first five rows\n",
    "data = pd.read_csv(\n",
    "    filepath_or_buffer='diabetes.csv'\n",
    ")\n",
    "data"
   ]
  },
  {
   "cell_type": "markdown",
   "metadata": {},
   "source": [
    "The **data has been properly formatted** in terms of the column names and positions. Now we need to check whether there are missing values. Next we check the number of rows and columns of the data"
   ]
  },
  {
   "cell_type": "code",
   "execution_count": 21,
   "metadata": {},
   "outputs": [
    {
     "data": {
      "text/plain": [
       "(768, 9)"
      ]
     },
     "execution_count": 21,
     "metadata": {},
     "output_type": "execute_result"
    }
   ],
   "source": [
    "# check the shape of the data\n",
    "data.shape"
   ]
  },
  {
   "cell_type": "markdown",
   "metadata": {},
   "source": [
    "There are **768** participants in this study"
   ]
  },
  {
   "cell_type": "code",
   "execution_count": 22,
   "metadata": {},
   "outputs": [
    {
     "data": {
      "text/plain": [
       "0"
      ]
     },
     "execution_count": 22,
     "metadata": {},
     "output_type": "execute_result"
    }
   ],
   "source": [
    "# check if there are any missing values in the data\n",
    "data.isnull().sum(axis=1).sum(axis=0)"
   ]
  },
  {
   "cell_type": "markdown",
   "metadata": {},
   "source": [
    "There are no **no missing values** in the data. Now we check for duplicate rows in the data."
   ]
  },
  {
   "cell_type": "code",
   "execution_count": 23,
   "metadata": {},
   "outputs": [
    {
     "data": {
      "text/plain": [
       "0"
      ]
     },
     "execution_count": 23,
     "metadata": {},
     "output_type": "execute_result"
    }
   ],
   "source": [
    "# check for duplicates in the data\n",
    "data.duplicated().sum()"
   ]
  },
  {
   "cell_type": "markdown",
   "metadata": {},
   "source": [
    "There are **no duplicates** in the data. That is, data from a particular patient has not been recorded twice."
   ]
  },
  {
   "cell_type": "code",
   "execution_count": 24,
   "metadata": {},
   "outputs": [
    {
     "data": {
      "text/plain": [
       "dtype('int64')"
      ]
     },
     "execution_count": 24,
     "metadata": {},
     "output_type": "execute_result"
    }
   ],
   "source": [
    "data.Outcome.dtype"
   ]
  },
  {
   "cell_type": "code",
   "execution_count": 25,
   "metadata": {},
   "outputs": [],
   "source": [
    "# convert the Outcome column to string datatype for statistical analysis\n",
    "data.Outcome = data.Outcome.astype('str')"
   ]
  },
  {
   "cell_type": "markdown",
   "metadata": {},
   "source": [
    "## 2. Statistical Analysis and Inference\n",
    "Next we perform some statistical analysis involving the various columns vs diabetes outcome. It is very important to do this so that we can know the whether there is any relationship between the characteristic and diabetes outcome. We create a function *plot_relationship* that outputs a plot and the statistical significance as p-value. We also perform descriptive statistics on each column of the data."
   ]
  },
  {
   "cell_type": "markdown",
   "metadata": {},
   "source": [
    "We first perform some descriptive statistics of the data using the mean median e.t.c."
   ]
  },
  {
   "cell_type": "code",
   "execution_count": 26,
   "metadata": {},
   "outputs": [
    {
     "data": {
      "text/html": [
       "<div>\n",
       "<style scoped>\n",
       "    .dataframe tbody tr th:only-of-type {\n",
       "        vertical-align: middle;\n",
       "    }\n",
       "\n",
       "    .dataframe tbody tr th {\n",
       "        vertical-align: top;\n",
       "    }\n",
       "\n",
       "    .dataframe thead th {\n",
       "        text-align: right;\n",
       "    }\n",
       "</style>\n",
       "<table border=\"1\" class=\"dataframe\">\n",
       "  <thead>\n",
       "    <tr style=\"text-align: right;\">\n",
       "      <th></th>\n",
       "      <th>Pregnancies</th>\n",
       "      <th>Glucose</th>\n",
       "      <th>BloodPressure</th>\n",
       "      <th>SkinThickness</th>\n",
       "      <th>Insulin</th>\n",
       "      <th>BMI</th>\n",
       "      <th>DiabetesPedigreeFunction</th>\n",
       "      <th>Age</th>\n",
       "    </tr>\n",
       "  </thead>\n",
       "  <tbody>\n",
       "    <tr>\n",
       "      <th>count</th>\n",
       "      <td>768.000000</td>\n",
       "      <td>768.000000</td>\n",
       "      <td>768.000000</td>\n",
       "      <td>768.000000</td>\n",
       "      <td>768.000000</td>\n",
       "      <td>768.000000</td>\n",
       "      <td>768.000000</td>\n",
       "      <td>768.000000</td>\n",
       "    </tr>\n",
       "    <tr>\n",
       "      <th>mean</th>\n",
       "      <td>3.845052</td>\n",
       "      <td>120.894531</td>\n",
       "      <td>69.105469</td>\n",
       "      <td>20.536458</td>\n",
       "      <td>79.799479</td>\n",
       "      <td>31.992578</td>\n",
       "      <td>0.471876</td>\n",
       "      <td>33.240885</td>\n",
       "    </tr>\n",
       "    <tr>\n",
       "      <th>std</th>\n",
       "      <td>3.369578</td>\n",
       "      <td>31.972618</td>\n",
       "      <td>19.355807</td>\n",
       "      <td>15.952218</td>\n",
       "      <td>115.244002</td>\n",
       "      <td>7.884160</td>\n",
       "      <td>0.331329</td>\n",
       "      <td>11.760232</td>\n",
       "    </tr>\n",
       "    <tr>\n",
       "      <th>min</th>\n",
       "      <td>0.000000</td>\n",
       "      <td>0.000000</td>\n",
       "      <td>0.000000</td>\n",
       "      <td>0.000000</td>\n",
       "      <td>0.000000</td>\n",
       "      <td>0.000000</td>\n",
       "      <td>0.078000</td>\n",
       "      <td>21.000000</td>\n",
       "    </tr>\n",
       "    <tr>\n",
       "      <th>25%</th>\n",
       "      <td>1.000000</td>\n",
       "      <td>99.000000</td>\n",
       "      <td>62.000000</td>\n",
       "      <td>0.000000</td>\n",
       "      <td>0.000000</td>\n",
       "      <td>27.300000</td>\n",
       "      <td>0.243750</td>\n",
       "      <td>24.000000</td>\n",
       "    </tr>\n",
       "    <tr>\n",
       "      <th>50%</th>\n",
       "      <td>3.000000</td>\n",
       "      <td>117.000000</td>\n",
       "      <td>72.000000</td>\n",
       "      <td>23.000000</td>\n",
       "      <td>30.500000</td>\n",
       "      <td>32.000000</td>\n",
       "      <td>0.372500</td>\n",
       "      <td>29.000000</td>\n",
       "    </tr>\n",
       "    <tr>\n",
       "      <th>75%</th>\n",
       "      <td>6.000000</td>\n",
       "      <td>140.250000</td>\n",
       "      <td>80.000000</td>\n",
       "      <td>32.000000</td>\n",
       "      <td>127.250000</td>\n",
       "      <td>36.600000</td>\n",
       "      <td>0.626250</td>\n",
       "      <td>41.000000</td>\n",
       "    </tr>\n",
       "    <tr>\n",
       "      <th>max</th>\n",
       "      <td>17.000000</td>\n",
       "      <td>199.000000</td>\n",
       "      <td>122.000000</td>\n",
       "      <td>99.000000</td>\n",
       "      <td>846.000000</td>\n",
       "      <td>67.100000</td>\n",
       "      <td>2.420000</td>\n",
       "      <td>81.000000</td>\n",
       "    </tr>\n",
       "  </tbody>\n",
       "</table>\n",
       "</div>"
      ],
      "text/plain": [
       "       Pregnancies     Glucose  BloodPressure  SkinThickness     Insulin  \\\n",
       "count   768.000000  768.000000     768.000000     768.000000  768.000000   \n",
       "mean      3.845052  120.894531      69.105469      20.536458   79.799479   \n",
       "std       3.369578   31.972618      19.355807      15.952218  115.244002   \n",
       "min       0.000000    0.000000       0.000000       0.000000    0.000000   \n",
       "25%       1.000000   99.000000      62.000000       0.000000    0.000000   \n",
       "50%       3.000000  117.000000      72.000000      23.000000   30.500000   \n",
       "75%       6.000000  140.250000      80.000000      32.000000  127.250000   \n",
       "max      17.000000  199.000000     122.000000      99.000000  846.000000   \n",
       "\n",
       "              BMI  DiabetesPedigreeFunction         Age  \n",
       "count  768.000000                768.000000  768.000000  \n",
       "mean    31.992578                  0.471876   33.240885  \n",
       "std      7.884160                  0.331329   11.760232  \n",
       "min      0.000000                  0.078000   21.000000  \n",
       "25%     27.300000                  0.243750   24.000000  \n",
       "50%     32.000000                  0.372500   29.000000  \n",
       "75%     36.600000                  0.626250   41.000000  \n",
       "max     67.100000                  2.420000   81.000000  "
      ]
     },
     "execution_count": 26,
     "metadata": {},
     "output_type": "execute_result"
    }
   ],
   "source": [
    "data.describe()"
   ]
  },
  {
   "cell_type": "markdown",
   "metadata": {},
   "source": [
    "We could see that most of the columns had a wide range of values and also, most of them have different scales.\n",
    "Most machine learning algorithms do not perform properly with features having different scales so it would be prudent to normalize the data before training."
   ]
  },
  {
   "cell_type": "markdown",
   "metadata": {},
   "source": [
    "Next we check whether the values in each of the data column are normally distributed by using a shapiro-wilk test and a significance threshold of 0.05"
   ]
  },
  {
   "cell_type": "code",
   "execution_count": 226,
   "metadata": {},
   "outputs": [
    {
     "data": {
      "text/html": [
       "<div>\n",
       "<style scoped>\n",
       "    .dataframe tbody tr th:only-of-type {\n",
       "        vertical-align: middle;\n",
       "    }\n",
       "\n",
       "    .dataframe tbody tr th {\n",
       "        vertical-align: top;\n",
       "    }\n",
       "\n",
       "    .dataframe thead th {\n",
       "        text-align: right;\n",
       "    }\n",
       "</style>\n",
       "<table border=\"1\" class=\"dataframe\">\n",
       "  <thead>\n",
       "    <tr style=\"text-align: right;\">\n",
       "      <th></th>\n",
       "      <th>shapiro_test_statistic</th>\n",
       "      <th>p_value</th>\n",
       "    </tr>\n",
       "  </thead>\n",
       "  <tbody>\n",
       "    <tr>\n",
       "      <th>Pregnancies</th>\n",
       "      <td>0.904278</td>\n",
       "      <td>1.608089e-21</td>\n",
       "    </tr>\n",
       "    <tr>\n",
       "      <th>Glucose</th>\n",
       "      <td>0.970104</td>\n",
       "      <td>1.986761e-11</td>\n",
       "    </tr>\n",
       "    <tr>\n",
       "      <th>BloodPressure</th>\n",
       "      <td>0.818921</td>\n",
       "      <td>1.584007e-28</td>\n",
       "    </tr>\n",
       "    <tr>\n",
       "      <th>SkinThickness</th>\n",
       "      <td>0.904627</td>\n",
       "      <td>1.751576e-21</td>\n",
       "    </tr>\n",
       "    <tr>\n",
       "      <th>Insulin</th>\n",
       "      <td>0.722021</td>\n",
       "      <td>7.915248e-34</td>\n",
       "    </tr>\n",
       "    <tr>\n",
       "      <th>BMI</th>\n",
       "      <td>0.949989</td>\n",
       "      <td>1.840562e-15</td>\n",
       "    </tr>\n",
       "    <tr>\n",
       "      <th>DiabetesPedigreeFunction</th>\n",
       "      <td>0.836519</td>\n",
       "      <td>2.477697e-27</td>\n",
       "    </tr>\n",
       "    <tr>\n",
       "      <th>Age</th>\n",
       "      <td>0.874766</td>\n",
       "      <td>2.401947e-24</td>\n",
       "    </tr>\n",
       "  </tbody>\n",
       "</table>\n",
       "</div>"
      ],
      "text/plain": [
       "                          shapiro_test_statistic       p_value\n",
       "Pregnancies                             0.904278  1.608089e-21\n",
       "Glucose                                 0.970104  1.986761e-11\n",
       "BloodPressure                           0.818921  1.584007e-28\n",
       "SkinThickness                           0.904627  1.751576e-21\n",
       "Insulin                                 0.722021  7.915248e-34\n",
       "BMI                                     0.949989  1.840562e-15\n",
       "DiabetesPedigreeFunction                0.836519  2.477697e-27\n",
       "Age                                     0.874766  2.401947e-24"
      ]
     },
     "execution_count": 226,
     "metadata": {},
     "output_type": "execute_result"
    }
   ],
   "source": [
    "# test for normality within the data columns\n",
    "norm_p_values = {}\n",
    "for col in data.columns[:-1]:\n",
    "    norm_p_values[col] = stats.shapiro(data[col].values)\n",
    "pd.DataFrame(norm_p_values).T.rename(columns={0:'shapiro_test_statistic', 1:'p_value'})"
   ]
  },
  {
   "cell_type": "markdown",
   "metadata": {},
   "source": [
    "The values of all the columns are normally distributed since the p values of the shapiro test are all less than 0.05 Since we are comparing two groups, we can use the 2-sample independent t test."
   ]
  },
  {
   "cell_type": "code",
   "execution_count": 224,
   "metadata": {},
   "outputs": [],
   "source": [
    "def plot_relationship(y, data):\n",
    "    \"\"\"Make an lv plot to compare the relationship between a measured characteristic and.\n",
    "    and diabetes Outcome.\n",
    "    \n",
    "    Args -\n",
    "        y: (str) the characteristic to compare\n",
    "        data: (DataFrame obj) input data containing a column with the characteristic\n",
    "    Returns -\n",
    "        A matplotlib.pyplot obj with pvalue indicated\n",
    "    \"\"\"\n",
    "        # make a violin plot to check for the relationship between no of pregnancies and outcome\n",
    "    _ = sns.boxplot(\n",
    "        x='Outcome',\n",
    "        y=y,\n",
    "        data=data, orient=\"v\")\n",
    "    \n",
    "    # calculate and annotate the plot with the mann-whitney u test statistic and p value\n",
    "    _ = add_stat_annotation(ax=_,\n",
    "                        data=data,\n",
    "                        x='Outcome',\n",
    "                        y=y,\n",
    "                        test='t-test_ind', \n",
    "                        box_pairs=[('0', '1')],\n",
    "                        text_format='full')\n",
    "    \n",
    "    _ = plt.xticks([0, 1], labels = ['Normal', 'Diabetic'])"
   ]
  },
  {
   "cell_type": "markdown",
   "metadata": {},
   "source": [
    "We first check out the relationship between **number of pregnancies** and **diabetic outcome**. Therefore we hypothesize that,\n",
    "\n",
    "**HO**: There is no relationship between number of pregnancies and diabetes status.\n",
    "\n",
    "**H1**: There is a relationship between number of pregnancies and diabetes status."
   ]
  },
  {
   "cell_type": "code",
   "execution_count": 225,
   "metadata": {},
   "outputs": [
    {
     "name": "stdout",
     "output_type": "stream",
     "text": [
      "0 v.s. 1: t-test independent samples with Bonferroni correction, P_val=5.065e-10 stat=-6.298e+00\n"
     ]
    },
    {
     "data": {
      "image/png": "[encoded data removed]",
      "text/plain": [
       "<Figure size 432x288 with 1 Axes>"
      ]
     },
     "metadata": {},
     "output_type": "display_data"
    }
   ],
   "source": [
    "# check the relationship between number of pregnancies and daibetes outcome\n",
    "plot_relationship('Pregnancies', data)"
   ]
  },
  {
   "cell_type": "markdown",
   "metadata": {},
   "source": [
    "Fig 1: Relationship between **Number of Pregnancies** and **Diabetes**\n",
    "\n",
    "As can be seen from the graph, the the median number of pregnancies for the diabetes postive females were slightly higher than the negatives. Since the **p value <<< 0.5**, we can reject the null hypothesis and accept the alternative hypothesis that **there is an association between number of pregnancies and diabetes**.\n",
    "\n",
    "Next, we check the association between **age** and **diabetes**.\n",
    "\n",
    "**HO**: There is no relationship between Age and diabetes status.\n",
    "\n",
    "**H1**: There is a relationship between Age and diabetes status."
   ]
  },
  {
   "cell_type": "code",
   "execution_count": 30,
   "metadata": {},
   "outputs": [
    {
     "name": "stdout",
     "output_type": "stream",
     "text": [
      "0 v.s. 1: t-test independent samples with Bonferroni correction, P_val=2.210e-11 stat=-6.793e+00\n"
     ]
    },
    {
     "data": {
      "image/png": "[encoded data removed]",
      "text/plain": [
       "<Figure size 432x288 with 1 Axes>"
      ]
     },
     "metadata": {},
     "output_type": "display_data"
    }
   ],
   "source": [
    "# make a violin plot to check for the relationship between age and outcome\n",
    "plot_relationship('Age', data)"
   ]
  },
  {
   "cell_type": "markdown",
   "metadata": {},
   "source": [
    "Fig 2: Relationship between **Age** and **Diabetes**\n",
    "\n",
    "As can be seen from the graph, the median age for the diabetic females were slightly higher than the negatives. Since the **p value <<< 0.5**, we can reject the null hypothesis and accept the alternative hypothesis that **there is an association age and diabetes**.\n",
    "\n",
    "Next, we check the association between **Glucose** and **diabetes**.\n",
    "\n",
    "**HO**: There is no relationship between Glucose and diabetes status.\n",
    "\n",
    "**H1**: There is a relationship between Glucose and diabetes status."
   ]
  },
  {
   "cell_type": "code",
   "execution_count": 31,
   "metadata": {},
   "outputs": [
    {
     "name": "stdout",
     "output_type": "stream",
     "text": [
      "0 v.s. 1: t-test independent samples with Bonferroni correction, P_val=8.935e-43 stat=-1.460e+01\n"
     ]
    },
    {
     "data": {
      "image/png": "[encoded data removed]",
      "text/plain": [
       "<Figure size 432x288 with 1 Axes>"
      ]
     },
     "metadata": {},
     "output_type": "display_data"
    }
   ],
   "source": [
    "plot_relationship('Glucose', data)"
   ]
  },
  {
   "cell_type": "markdown",
   "metadata": {},
   "source": [
    "Fig 3: Relationship between **Glucose** and **Diabetes**\n",
    "\n",
    "As can be seen from the graph, the median glucose levels for the diabetic females were slightly higher than the normal. Since the **p value < 0.5**, we can reject the null hypothesis and accept the alternative hypothesis that **there is an association glucose and diabetes**.\n",
    "\n",
    "Next, we check the association between **Blood Pressure** and **diabetes**.\n",
    "\n",
    "**HO**: There is no relationship between Blood Pressure and diabetes status.\n",
    "\n",
    "**H1**: There is a relationship between Blood Pressure and diabetes status."
   ]
  },
  {
   "cell_type": "code",
   "execution_count": 32,
   "metadata": {},
   "outputs": [
    {
     "name": "stdout",
     "output_type": "stream",
     "text": [
      "0 v.s. 1: t-test independent samples with Bonferroni correction, P_val=7.151e-02 stat=-1.805e+00\n"
     ]
    },
    {
     "data": {
      "image/png": "[encoded data removed]",
      "text/plain": [
       "<Figure size 432x288 with 1 Axes>"
      ]
     },
     "metadata": {},
     "output_type": "display_data"
    }
   ],
   "source": [
    "plot_relationship('BloodPressure', data)"
   ]
  },
  {
   "cell_type": "markdown",
   "metadata": {},
   "source": [
    "Fig 4: Relationship between **Blood Pressure** and **Diabetes**\n",
    "\n",
    "As can be seen from the graph, the median blood pressure levels for the diabetic females were slightly higher than the normal. Since the **p value > 0.5**, we cannot reject the null hypothesis and accept the alternative hypothesis that **there is an association Blood Pressure and diabetes**.\n",
    "\n",
    "Next, we check the association between **Skin thickness** and **diabetes**.\n",
    "\n",
    "**HO**: There is no relationship between Skin thickness and diabetes status.\n",
    "\n",
    "**H1**: There is a relationship between Skin thickness and diabetes status."
   ]
  },
  {
   "cell_type": "code",
   "execution_count": 33,
   "metadata": {},
   "outputs": [
    {
     "name": "stdout",
     "output_type": "stream",
     "text": [
      "0 v.s. 1: t-test independent samples with Bonferroni correction, P_val=3.835e-02 stat=-2.075e+00\n"
     ]
    },
    {
     "data": {
      "image/png": "[encoded data removed]",
      "text/plain": [
       "<Figure size 432x288 with 1 Axes>"
      ]
     },
     "metadata": {},
     "output_type": "display_data"
    }
   ],
   "source": [
    "plot_relationship('SkinThickness', data)"
   ]
  },
  {
   "cell_type": "markdown",
   "metadata": {},
   "source": [
    "Fig 5: Relationship between **Skin thickness** and **Diabetes**\n",
    "\n",
    "As can be seen from the graph, the median skin thickness for the diabetic females were slightly higher than the normal. Since the **p value < 0.5**, we can reject the null hypothesis and accept the alternative hypothesis that **there is an association Skin thickness and diabetes**.\n",
    "\n",
    "Next, we check the association between **Insulin** and **diabetes**.\n",
    "\n",
    "**HO**: There is no relationship between insulin and diabetes status.\n",
    "\n",
    "**H1**: There is a relationship between Insulin and diabetes status."
   ]
  },
  {
   "cell_type": "code",
   "execution_count": 34,
   "metadata": {},
   "outputs": [
    {
     "name": "stdout",
     "output_type": "stream",
     "text": [
      "0 v.s. 1: t-test independent samples with Bonferroni correction, P_val=2.862e-04 stat=-3.644e+00\n"
     ]
    },
    {
     "data": {
      "image/png": "[encoded data removed]",
      "text/plain": [
       "<Figure size 432x288 with 1 Axes>"
      ]
     },
     "metadata": {},
     "output_type": "display_data"
    }
   ],
   "source": [
    "plot_relationship('Insulin', data)"
   ]
  },
  {
   "cell_type": "markdown",
   "metadata": {},
   "source": [
    "Fig 6: Relationship between **Insulin** and **Diabetes**\n",
    "\n",
    "As can be seen from the graph, the median Insulin for the diabetic females were slightly lower than the normal. Since the **p value < 0.5**, we can accept the alternative hypothesis and reject the null hypothesis that **there is no association between Insulin and diabetes**.\n",
    "\n",
    "Next, we check the association between **BMI** and **diabetes**.\n",
    "\n",
    "**HO**: There is no relationship between BMI and diabetes status.\n",
    "\n",
    "**H1**: There is a relationship between BMI and diabetes status."
   ]
  },
  {
   "cell_type": "code",
   "execution_count": 35,
   "metadata": {},
   "outputs": [
    {
     "name": "stdout",
     "output_type": "stream",
     "text": [
      "0 v.s. 1: t-test independent samples with Bonferroni correction, P_val=1.230e-16 stat=-8.472e+00\n"
     ]
    },
    {
     "data": {
      "image/png": "[encoded data removed]",
      "text/plain": [
       "<Figure size 432x288 with 1 Axes>"
      ]
     },
     "metadata": {},
     "output_type": "display_data"
    }
   ],
   "source": [
    "plot_relationship('BMI', data)"
   ]
  },
  {
   "cell_type": "markdown",
   "metadata": {},
   "source": [
    "Fig 7: Relationship between **BMI** and **Diabetes**\n",
    "\n",
    "As can be seen from the graph, the median BMI for the diabetic females were slightly higher than the normal. Since the **p value < 0.5**, we can reject the null hypothesis and accept the alternative hypothesis that **there is an association BMI and diabetes**.\n",
    "\n",
    "Next, we check the association between **Diabetes Pedigree Function** and **diabetes**.\n",
    "\n",
    "**HO**: There is no relationship between Diabetes Pedigree Function and diabetes status.\n",
    "\n",
    "**H1**: There is a relationship between Diabetes Pedigree Function and diabetes status."
   ]
  },
  {
   "cell_type": "code",
   "execution_count": 36,
   "metadata": {},
   "outputs": [
    {
     "name": "stdout",
     "output_type": "stream",
     "text": [
      "0 v.s. 1: t-test independent samples with Bonferroni correction, P_val=1.255e-06 stat=-4.886e+00\n"
     ]
    },
    {
     "data": {
      "image/png": "[encoded data removed]",
      "text/plain": [
       "<Figure size 432x288 with 1 Axes>"
      ]
     },
     "metadata": {},
     "output_type": "display_data"
    }
   ],
   "source": [
    "plot_relationship('DiabetesPedigreeFunction', data)"
   ]
  },
  {
   "cell_type": "markdown",
   "metadata": {},
   "source": [
    "Fig 8: Relationship between **Diabetes Pedigree Function** and **Diabetes**\n",
    "\n",
    "As can be seen from the graph, the median Diabetes Pedigree Function for the diabetic females were slightly higher than the normal. Since the **p value < 0.5**, we can reject the null hypothesis and accept the alternative hypothesis that **there is an association Diabetes Pedigree Function and diabetes**."
   ]
  },
  {
   "cell_type": "markdown",
   "metadata": {},
   "source": [
    "### 3. Data Processing and Feature Engineering\n",
    "We first start our model training and evaluation with building and evaluating a baseline classification model. Research shows that DummyClassifier is the most suitable for this. So we use it to get a baseline performance of our model\n",
    "#### 3.1 Baseline Classification with DummyClassifier"
   ]
  },
  {
   "cell_type": "code",
   "execution_count": 37,
   "metadata": {},
   "outputs": [
    {
     "data": {
      "text/plain": [
       "Pregnancies                   int64\n",
       "Glucose                       int64\n",
       "BloodPressure                 int64\n",
       "SkinThickness                 int64\n",
       "Insulin                       int64\n",
       "BMI                         float64\n",
       "DiabetesPedigreeFunction    float64\n",
       "Age                           int64\n",
       "Outcome                      object\n",
       "dtype: object"
      ]
     },
     "execution_count": 37,
     "metadata": {},
     "output_type": "execute_result"
    }
   ],
   "source": [
    "# ensure all the columns have number dtype\n",
    "data.dtypes"
   ]
  },
  {
   "cell_type": "markdown",
   "metadata": {},
   "source": [
    "The Outcome column is of datatype object. Therefore before training, we would need to change it to int or float type. We check the performance of our base model on the entire dataset. We used the 'uniform' strategy so that we can know the accuracy when we make random predictions. This is good because if we get a model with a far better accuracy, we could be confident that the model did not do random predictions, but instead was properly trained."
   ]
  },
  {
   "cell_type": "code",
   "execution_count": 243,
   "metadata": {},
   "outputs": [
    {
     "name": "stdout",
     "output_type": "stream",
     "text": [
      "dummy_precision = 0.3597246563490549\n",
      "dummy_recall_score = 0.49301994301994306\n",
      "fischer_test_statisitc = 1.24053826745164, pvalue = 0.6092738627363959\n"
     ]
    },
    {
     "data": {
      "image/png": "[encoded data removed]",
      "text/plain": [
       "<Figure size 432x288 with 1 Axes>"
      ]
     },
     "metadata": {},
     "output_type": "display_data"
    },
    {
     "data": {
      "image/png": "[encoded data removed]",
      "text/plain": [
       "<Figure size 432x288 with 2 Axes>"
      ]
     },
     "metadata": {},
     "output_type": "display_data"
    }
   ],
   "source": [
    "# create feature matrix X and response vector y\n",
    "X = data.drop('Outcome', axis=1)\n",
    "y = np.ravel(\n",
    "        LabelBinarizer().fit_transform(data.Outcome)) # use LabelBinarizer to convert to numerical dtype\n",
    "\n",
    "# instantiate the GaussianNB classifier\n",
    "dummy_clf_base = DummyClassifier(strategy='uniform')\n",
    "\n",
    "# calculate the 10-fold cross validated accuracy\n",
    "print(\n",
    "    'dummy_precision = {}'.format(\n",
    "        cross_val_score(estimator=dummy_clf_base, X=X, y=y, cv=10, scoring='precision').mean()))\n",
    "print(\n",
    "    'dummy_recall_score = {}'.format(\n",
    "        cross_val_score(estimator=dummy_clf_base, X=X, y=y, cv=10, scoring='recall').mean()))\n",
    "\n",
    "# check the precision_recall curve of the dummy classifier\n",
    "X = data.drop('Outcome', axis=1)\n",
    "y = data.Outcome.astype('int')\n",
    "\n",
    "# create train and test sets\n",
    "XTrain, XTest, yTrain, yTest = train_test_split(X, y, test_size=0.2, stratify=y, random_state=1)\n",
    "\n",
    "dummy_clf_base.fit(XTrain, yTrain)\n",
    "# plot precision_recall curve for dummy classifier\n",
    "metrics.plot_precision_recall_curve(dummy_clf_base, XTest, yTest)\n",
    "\n",
    "# plot confusion matrix for dummy classifer\n",
    "dummy_disp = metrics.plot_confusion_matrix(dummy_clf_base, XTest, yTest, cmap='Blues')\n",
    "\n",
    "# turn off grid lines\n",
    "plt.grid(False)\n",
    "\n",
    "# perform a fischer exact test\n",
    "fish, pval = stats.fisher_exact(dummy_disp.confusion_matrix)\n",
    "print(\n",
    "    'fischer_test_statisitc = {}, pvalue = {}'.format(fish, pval))"
   ]
  },
  {
   "cell_type": "markdown",
   "metadata": {},
   "source": [
    "We achieved a recall of about 51% when a dummy classifier was used. We would use this as a benchmark model to compare the performances of other classifiers to."
   ]
  },
  {
   "cell_type": "markdown",
   "metadata": {},
   "source": [
    "Next, we do preprocessing and feature engineering on our dataset to prepare it for training and evaluation. The steps to be used are;\n",
    "1. Removal of Outliers in the data\n",
    "2. Perform feature engineering using transforms such as Polynomials and Scalers\n",
    "3. Performing feature selection using dimensionality reduction\n",
    "4. Fine tuning Hyperparamters using GridSearchCV and RandomizedSearchCV\n",
    "5. Adjust the threshold of the classifier"
   ]
  },
  {
   "cell_type": "markdown",
   "metadata": {},
   "source": [
    "#### 3.2 Removal of Outliers\n",
    "We use Tukey's method of outlier removal for this. This is done by removing values beyond than 1.5 times the interquartile range on either quartile. However, we would want to drop rows with outliers in more than two columns. A little helper function is used for this."
   ]
  },
  {
   "cell_type": "code",
   "execution_count": 39,
   "metadata": {},
   "outputs": [],
   "source": [
    "# helper function to remove outliers from columns\n",
    "def detect_outliers(df,n,features):\n",
    "    \"\"\"Detects outliers rows with 'n' outliers using the Tukey method.\n",
    "    \n",
    "        Args -\n",
    "            df: DataFrame to be checked for outliers\n",
    "            n: Threshold of outliers to be considered for dropping\n",
    "            features: columns to be considered for outlier checking\n",
    "        Returns -\n",
    "            A list of indices of rows with > n outliers\n",
    "    \"\"\"\n",
    "    outlier_indices = []\n",
    "    \n",
    "    # iterate over features(columns)\n",
    "    for col in features:\n",
    "        \n",
    "        # 1st quartile (25%)\n",
    "        Q1 = np.percentile(df[col], 25)\n",
    "        \n",
    "        # 3rd quartile (75%)\n",
    "        Q3 = np.percentile(df[col],75)\n",
    "        \n",
    "        # Interquartile range (IQR)\n",
    "        IQR = Q3 - Q1\n",
    "        \n",
    "        # outlier step\n",
    "        outlier_step = 1.5 * IQR\n",
    "        \n",
    "        # Determine a list of indices of outliers for feature col\n",
    "        outlier_list_col = df[(df[col] < Q1 - outlier_step) | \n",
    "                              (df[col] > Q3 + outlier_step )].index\n",
    "        # append the found outlier indices for col to the list of outlier indices \n",
    "        outlier_indices.extend(outlier_list_col)\n",
    "   \n",
    "        \n",
    "    # select observations containing more than 2 outliers\n",
    "    outlier_indices = Counter(outlier_indices)  \n",
    "\n",
    "    multiple_outliers = list( k for k, v in outlier_indices.items() if v > n )\n",
    "    return multiple_outliers"
   ]
  },
  {
   "cell_type": "code",
   "execution_count": 40,
   "metadata": {},
   "outputs": [
    {
     "data": {
      "text/plain": [
       "[]"
      ]
     },
     "execution_count": 40,
     "metadata": {},
     "output_type": "execute_result"
    }
   ],
   "source": [
    "# obtain rows with more than two ouliers\n",
    "detect_outliers(df=data, n=2, features=data.columns[:-1])"
   ]
  },
  {
   "cell_type": "markdown",
   "metadata": {},
   "source": [
    "Since there are no rows with more than two outliers, we drop none of them, We move on to the step which is feature engineering and selection."
   ]
  },
  {
   "cell_type": "markdown",
   "metadata": {},
   "source": [
    "#### 3.3 Feature Engineering\n",
    "Next we check the effects of some preprocessing steps on the features on performance of the model. We use a paired ttest with an alpha level of 0.05"
   ]
  },
  {
   "cell_type": "code",
   "execution_count": 41,
   "metadata": {},
   "outputs": [],
   "source": [
    "def feature_eng_sig(data, feat_transformer, clf, cols, random_seed=None):\n",
    "    \"\"\"Calculate the significance of a transformation on selected features\n",
    "    \n",
    "        Args -\n",
    "            data: (DataFrame) dataset to make analysis on\n",
    "            feat_transformer: (sklearn.transformer) transformer object to fit_transform features\n",
    "            clf: (sklearn classifier) classifier object which can fit_predict\n",
    "            cols: (list) list of columns to test\n",
    "            random_seed: (default=None) can be set to any integer. Controls reproducibility of analysis\n",
    "            \n",
    "        Returns -\n",
    "            A pandas series of columns with associated p values\n",
    "    \"\"\"\n",
    "    p_values = {}\n",
    "    for col in cols:    \n",
    "        # create feature matrix X and response vector y\n",
    "        X = pd.DataFrame(data[col])\n",
    "        y = np.ravel(\n",
    "            LabelBinarizer().fit_transform(data.Outcome)) # use LabelBinarizer to convert to numerical dtype    \n",
    "    \n",
    "        # create a pipeline\n",
    "        pipe = Pipeline(steps=[('feat_transformer', feat_transformer),\n",
    "                               ('dummy', clf)])\n",
    "        \n",
    "    \n",
    "        # calculate the statistical significance of using polynomial features\n",
    "        _, p_values[col] = paired_ttest_5x2cv(estimator1=clf,\n",
    "                                              estimator2=pipe,\n",
    "                                              X=X,\n",
    "                                              y=y,\n",
    "                                              scoring='accuracy',\n",
    "                                              random_seed=random_seed\n",
    "                                             )\n",
    "                    \n",
    "\n",
    "    return(pd.Series(p_values))"
   ]
  },
  {
   "cell_type": "markdown",
   "metadata": {},
   "source": [
    "First, we check if the use of polynomial features improves any of the models. We use the paired t-test and set alpha level to be 0.05.\n",
    "\n",
    "**H0**: 2nd degree Polynomial features have no effect on model performance\n",
    "\n",
    "**H1**: 2nd degree Polynomial features have an effect on model performance"
   ]
  },
  {
   "cell_type": "code",
   "execution_count": 42,
   "metadata": {},
   "outputs": [
    {
     "data": {
      "text/plain": [
       "Pregnancies                 0.858092\n",
       "Glucose                     0.898907\n",
       "BloodPressure               0.133586\n",
       "SkinThickness               0.727234\n",
       "Insulin                     0.338069\n",
       "BMI                         0.452504\n",
       "DiabetesPedigreeFunction    0.369305\n",
       "Age                         0.305193\n",
       "dtype: float64"
      ]
     },
     "execution_count": 42,
     "metadata": {},
     "output_type": "execute_result"
    }
   ],
   "source": [
    "# instantiate a transformer and a classifier\n",
    "poly_feat = PolynomialFeatures(degree=2, include_bias=False)\n",
    "clf = DummyClassifier(strategy='uniform')\n",
    "\n",
    "# test the significance of transformation with polynomial features\n",
    "feature_eng_sig(data, poly_feat, clf, data.columns[:-1], random_seed=1)"
   ]
  },
  {
   "cell_type": "markdown",
   "metadata": {},
   "source": [
    "None of the p-values was < 0.05 so we cannot reject the null hypothesis and hence we can conclude that the use of polynomial features has no effect on model performance."
   ]
  },
  {
   "cell_type": "code",
   "execution_count": 43,
   "metadata": {},
   "outputs": [
    {
     "data": {
      "text/plain": [
       "Pregnancies                 0.211876\n",
       "Glucose                     0.877127\n",
       "BloodPressure               0.300823\n",
       "SkinThickness               0.788428\n",
       "Insulin                     0.131877\n",
       "BMI                         0.430530\n",
       "DiabetesPedigreeFunction    0.951702\n",
       "Age                         0.751666\n",
       "dtype: float64"
      ]
     },
     "execution_count": 43,
     "metadata": {},
     "output_type": "execute_result"
    }
   ],
   "source": [
    "# instantiate a transformer and a classifier\n",
    "mm_scaler = StandardScaler()\n",
    "clf = DummyClassifier(strategy='uniform')\n",
    "\n",
    "# test the significance of transformation with transformer\n",
    "feature_eng_sig(data, mm_scaler, clf, data.columns[:-1], random_seed=1)"
   ]
  },
  {
   "cell_type": "code",
   "execution_count": 44,
   "metadata": {},
   "outputs": [
    {
     "data": {
      "text/plain": [
       "(-2.845823262126388, 0.03599961818909442)"
      ]
     },
     "execution_count": 44,
     "metadata": {},
     "output_type": "execute_result"
    }
   ],
   "source": [
    "# create feature matrix X and response vector y\n",
    "X = data.drop('Outcome', axis=1)\n",
    "y = np.ravel(\n",
    "        LabelBinarizer().fit_transform(data.Outcome)) # use LabelBinarizer to convert to numerical dtype\n",
    "\n",
    "# instantiate a transformer and a classifier\n",
    "pca = PCA()\n",
    "clf = DummyClassifier(strategy='uniform')\n",
    "\n",
    "# test the significance of transformation with transformer\n",
    "pipe = Pipeline(steps=[('feat_transformer', pca),\n",
    "                               ('clf', clf)])\n",
    "\n",
    "paired_ttest_5x2cv(estimator1=clf,\n",
    "                   estimator2=pipe,\n",
    "                   X=X,\n",
    "                   y=y,\n",
    "                   scoring='accuracy'\n",
    "                  )"
   ]
  },
  {
   "cell_type": "markdown",
   "metadata": {},
   "source": [
    "Since PCA transformation is proving promising, we would visualize how the data is clustered by visualising the first two principal components"
   ]
  },
  {
   "cell_type": "code",
   "execution_count": 45,
   "metadata": {},
   "outputs": [
    {
     "data": {
      "image/png": "[encoded data removed]",
      "text/plain": [
       "<Figure size 432x288 with 1 Axes>"
      ]
     },
     "metadata": {},
     "output_type": "display_data"
    }
   ],
   "source": [
    "## extract the first two principal components\n",
    "# instantiate the pca transformer\n",
    "pca = PCA(n_components=2)\n",
    "\n",
    "# fit transform the data\n",
    "pca_comp_2 = pca.fit_transform(data.drop('Outcome', axis=1))\n",
    "\n",
    "# make a plot of the first two principal components\n",
    "_ = sns.scatterplot(x=pca_comp_2[:,0],\n",
    "                y=pca_comp_2[:,1],\n",
    "                hue=data.Outcome)\n",
    "_ = plt.xlabel('PC1')\n",
    "_ = plt.ylabel('PC2')"
   ]
  },
  {
   "cell_type": "markdown",
   "metadata": {},
   "source": [
    "This shows class imbalance where there are more points of class 0 than class 1. Also it could be seen that points of class 0 cluster very weel with those of class 1 interspersed among the class 0 points. We can confirm class imbalance by also counting the number of points for each class."
   ]
  },
  {
   "cell_type": "code",
   "execution_count": 46,
   "metadata": {},
   "outputs": [
    {
     "data": {
      "text/plain": [
       "0    500\n",
       "1    268\n",
       "Name: Outcome, dtype: int64"
      ]
     },
     "execution_count": 46,
     "metadata": {},
     "output_type": "execute_result"
    }
   ],
   "source": [
    "# determine the number of points for each class\n",
    "data.Outcome.value_counts()"
   ]
  },
  {
   "cell_type": "markdown",
   "metadata": {},
   "source": [
    "It could be seen above that the number of class 0 points are almost twice that of class 1 points. Hence there is class imbalance. Therefore, we need to ensure we take into account, class imbalance during training and evaluation. Also, in this situation, class accuracy would not be an ideal metric for this task instead, we would use precision-recall score as our metric.\n",
    "\n",
    "#### 3.4 Points noted from preprocessing and feature engineering\n",
    "* Polynomial features preprocessing did not have any significant effect on the performance of our model hence would not be used for final preprocessing.\n",
    "* Feature scaling did not have any significant effect on the performance of our model. However, it would still be used to preprocess the features since some some algorithms like logistic regression work better with scaled features.\n",
    "* PCA transformation improved the performance of our base model hence would be considered for the training of the final model.\n",
    "* Class imbalance exists in our data hence will be taken into account during model training.\n",
    "* precision_recall score will now be used as the evaluation metric instead of accuracy score."
   ]
  },
  {
   "cell_type": "markdown",
   "metadata": {},
   "source": [
    "## 4. Model Training and Evaluation\n",
    "We now \n",
    "* perform the final preprocessing of our data.\n",
    "* train our model.\n",
    "* Train and evaluate our model using recall_score, and searching for optimal hyperparameters using GridSearchCV\n",
    "* Algorithms to use for Voting Classifier\n",
    "    1. LogisticRegression\n",
    "    2. BernoulliNB\n",
    "    3. SVC"
   ]
  },
  {
   "cell_type": "code",
   "execution_count": 66,
   "metadata": {},
   "outputs": [
    {
     "name": "stdout",
     "output_type": "stream",
     "text": [
      "The best parameters are: {'logreg__C': 0.1, 'logreg__penalty': 'l1', 'pca__n_components': 6, 'rbs__with_centering': True, 'rbs__with_scaling': True}\n",
      "\n",
      "With a recall score of: 0.7689727463312369\n"
     ]
    }
   ],
   "source": [
    "# set feature matrix X and response vector y\n",
    "X = data.drop('Outcome', axis=1)\n",
    "y = data.Outcome.astype('int')\n",
    "\n",
    "# instantiate the transformers and  logistic regression classsifier\n",
    "robust_scaler = RobustScaler()\n",
    "pca = PCA()\n",
    "logreg = LogisticRegression(solver='liblinear', class_weight='balanced')\n",
    "\n",
    "pipe_lr = Pipeline(steps=[('rbs', robust_scaler),\n",
    "                ('pca', pca),\n",
    "                ('logreg', logreg)\n",
    "               ])\n",
    "\n",
    "param_grid = {'rbs__with_centering': [True, False],\n",
    "              'rbs__with_scaling': [True, False],\n",
    "              'pca__n_components': [2, 3, 4, 5, 6, 7],\n",
    "              'logreg__C': [0.1, 1, 10],\n",
    "              'logreg__penalty': ['l1', 'l2']\n",
    "             }\n",
    "\n",
    "grid_lr = GridSearchCV(estimator=pipe_lr,\n",
    "                    param_grid=param_grid,\n",
    "                    scoring='recall',\n",
    "                    cv=5\n",
    "                      )\n",
    "\n",
    "grid_lr.fit(X, y)\n",
    "\n",
    "print('The best parameters for logistic regression are: {}'.format(grid_lr.best_params_))\n",
    "print()\n",
    "print('With a recall score of: {}'.format(grid_lr.best_score_))"
   ]
  },
  {
   "cell_type": "code",
   "execution_count": 67,
   "metadata": {},
   "outputs": [
    {
     "name": "stdout",
     "output_type": "stream",
     "text": [
      "The best parameters for SVC are: {'pca__n_components': 5, 'rbs__with_centering': True, 'rbs__with_scaling': True, 'svc__C': 0.1}\n",
      "\n",
      "With a recall score of: 0.8099231306778476\n"
     ]
    }
   ],
   "source": [
    "# instantiate the transformers and classsifier\n",
    "from sklearn.svm import SVC\n",
    "robust_scaler = RobustScaler()\n",
    "pca = PCA()\n",
    "svc = SVC(class_weight='balanced')\n",
    "\n",
    "pipe_svc = Pipeline(steps=[('rbs', robust_scaler),\n",
    "                ('pca', pca),\n",
    "                ('svc', svc)\n",
    "               ])\n",
    "\n",
    "param_grid = {'rbs__with_centering': [True, False],\n",
    "              'rbs__with_scaling': [True, False],\n",
    "              'pca__n_components': [2, 3, 4, 5, 6, 7],\n",
    "              'svc__C': [0.1, 1, 10],\n",
    "              \n",
    "             }\n",
    "\n",
    "grid_svc = GridSearchCV(estimator=pipe_svc,\n",
    "                    param_grid=param_grid,\n",
    "                    scoring='recall',\n",
    "                    cv=5\n",
    "                   )\n",
    "\n",
    "grid_svc.fit(X, y)\n",
    "\n",
    "print('The best parameters for SVC are: {}'.format(grid_svc.best_params_))\n",
    "print()\n",
    "print('With a recall score of: {}'.format(grid_svc.best_score_))"
   ]
  },
  {
   "cell_type": "code",
   "execution_count": 74,
   "metadata": {},
   "outputs": [
    {
     "name": "stdout",
     "output_type": "stream",
     "text": [
      "The best parameters for BernoulliNB are: {'bnb__fit_prior': False, 'pca__n_components': 7, 'rbs__with_centering': True, 'rbs__with_scaling': False}\n",
      "\n",
      "With a recall score of: 0.7540181691125089\n"
     ]
    }
   ],
   "source": [
    "# instantiate the transformers and classsifier\n",
    "from sklearn.naive_bayes import BernoulliNB\n",
    "robust_scaler = RobustScaler()\n",
    "pca = PCA()\n",
    "bnb = BernoulliNB()\n",
    "\n",
    "pipe_bnb = Pipeline(steps=[('rbs', robust_scaler),\n",
    "                ('pca', pca),\n",
    "                ('bnb', bnb)\n",
    "               ])\n",
    "\n",
    "param_grid = {'rbs__with_centering': [True, False],\n",
    "              'rbs__with_scaling': [True, False],\n",
    "              'pca__n_components': [2, 3, 4, 5, 6, 7],\n",
    "              'bnb__fit_prior': [True, False],\n",
    "              \n",
    "             }\n",
    "\n",
    "grid_bnb = GridSearchCV(estimator=pipe_bnb,\n",
    "                    param_grid=param_grid,\n",
    "                    scoring='recall',\n",
    "                    cv=5\n",
    "                   )\n",
    "\n",
    "grid_bnb.fit(X, y)\n",
    "\n",
    "print('The best parameters for BernoulliNB are: {}'.format(grid_bnb.best_params_))\n",
    "print()\n",
    "print('With a recall score of: {}'.format(grid_bnb.best_score_))"
   ]
  },
  {
   "cell_type": "code",
   "execution_count": 197,
   "metadata": {},
   "outputs": [],
   "source": [
    "# create classfier pipelines with best parameters from grid search cv\n",
    "# logistic regression\n",
    "rbs_lr = RobustScaler(with_centering=True, with_scaling=True)\n",
    "pca_lr = PCA(n_components=6)\n",
    "logreg = LogisticRegression(C=0.1, penalty='l1', class_weight='balanced', solver='liblinear')\n",
    "\n",
    "pipe_lr = Pipeline(steps=[('rbs_lr', rbs_lr),\n",
    "                          ('pca_lr', pca_lr),\n",
    "                          ('logreg', logreg)\n",
    "                         ])\n",
    "\n",
    "# bernoulli naive bayes\n",
    "rbs_bnb = RobustScaler(with_centering=True, with_scaling=False)\n",
    "pca_bnb = PCA(n_components=7)\n",
    "bnb = BernoulliNB(fit_prior=False)\n",
    "\n",
    "pipe_bnb = Pipeline(steps=[('rbs_bnb', rbs_bnb),\n",
    "                           ('pca_bnb', pca_bnb),\n",
    "                           ('bnb', bnb)\n",
    "                          ])\n",
    "\n",
    "# SVC \n",
    "rbs_svc = RobustScaler(with_centering=True, with_scaling=True)\n",
    "pca_svc = PCA(n_components=5)\n",
    "svc = SVC(C=0.1, probability=True)\n",
    "\n",
    "pipe_svc = Pipeline(steps=[('rbs_svc', rbs_svc),\n",
    "                           ('pca_svc', pca_svc),\n",
    "                           ('svc', svc)\n",
    "                          ])\n",
    "vc = VotingClassifier(estimators=[('lr', grid_lr.best_estimator_),\n",
    "                                  ('bnb', grid_bnb.best_estimator_),\n",
    "                                  ('svc', pipe_svc)],\n",
    "                      voting='soft'\n",
    "                     )"
   ]
  },
  {
   "cell_type": "raw",
   "metadata": {},
   "source": []
  },
  {
   "cell_type": "code",
   "execution_count": 205,
   "metadata": {},
   "outputs": [
    {
     "data": {
      "image/png": "[encoded data removed]",
      "text/plain": [
       "<Figure size 432x288 with 1 Axes>"
      ]
     },
     "metadata": {},
     "output_type": "display_data"
    }
   ],
   "source": [
    "# check the precision_recall curve of the voting classifier model\n",
    "X = data.drop('Outcome', axis=1)\n",
    "y = data.Outcome.astype('int')\n",
    "\n",
    "# create training and test data\n",
    "XTrain, XTest, yTrain, yTest = train_test_split(X, y, test_size=0.2, stratify=y, random_state=1)\n",
    "\n",
    "# fit the model with the data\n",
    "vc.fit(XTrain, yTrain)\n",
    "\n",
    "# plot precision_recall_curve\n",
    "metrics.plot_precision_recall_curve(vc, XTest, yTest)\n",
    "_ = plt.yticks([0.4, 0.5, 0.6, 0.7, 0.8, 0.9, 1.0])\n",
    "_ = plt.ylim(0.4, 1.0)"
   ]
  },
  {
   "cell_type": "code",
   "execution_count": 214,
   "metadata": {},
   "outputs": [
    {
     "data": {
      "text/plain": [
       "<sklearn.metrics._plot.precision_recall_curve.PrecisionRecallDisplay at 0x7fc5467cd490>"
      ]
     },
     "execution_count": 214,
     "metadata": {},
     "output_type": "execute_result"
    },
    {
     "data": {
      "image/png": "[encoded data removed]",
      "text/plain": [
       "<Figure size 432x288 with 1 Axes>"
      ]
     },
     "metadata": {},
     "output_type": "display_data"
    }
   ],
   "source": [
    "# check the precision_recall curve of the voting classifier model\n",
    "X = data.drop('Outcome', axis=1)\n",
    "y = data.Outcome.astype('int')\n",
    "\n",
    "# create train and test sets\n",
    "XTrain, XTest, yTrain, yTest = train_test_split(X, y, test_size=0.2, stratify=y, random_state=1)\n",
    "\n",
    "grid_svc.best_estimator_.fit(XTrain, yTrain)\n",
    "# plot precision_recall curve for best SVC estimator\n",
    "metrics.plot_precision_recall_curve(grid_svc.best_estimator_, XTest, yTest)"
   ]
  },
  {
   "cell_type": "code",
   "execution_count": 211,
   "metadata": {},
   "outputs": [
    {
     "data": {
      "text/plain": [
       "<sklearn.metrics._plot.confusion_matrix.ConfusionMatrixDisplay at 0x7fc56605ae80>"
      ]
     },
     "execution_count": 211,
     "metadata": {},
     "output_type": "execute_result"
    },
    {
     "data": {
      "image/png": "[encoded data removed]",
      "text/plain": [
       "<Figure size 432x288 with 2 Axes>"
      ]
     },
     "metadata": {},
     "output_type": "display_data"
    }
   ],
   "source": [
    "# plot confusion_matrix for best voting classifier\n",
    "metrics.plot_confusion_matrix(vc, XTest, yTest, cmap='Blues')"
   ]
  },
  {
   "cell_type": "code",
   "execution_count": 233,
   "metadata": {},
   "outputs": [
    {
     "data": {
      "image/png": "[encoded data removed]",
      "text/plain": [
       "<Figure size 432x288 with 2 Axes>"
      ]
     },
     "metadata": {},
     "output_type": "display_data"
    }
   ],
   "source": [
    "# plot confusion_matrix for best svc\n",
    "disp = metrics.plot_confusion_matrix(grid_svc.best_estimator_, XTest, yTest, cmap='Blues', values_format='.3g')\n",
    "_ = plt.grid(False)"
   ]
  },
  {
   "cell_type": "markdown",
   "metadata": {},
   "source": [
    "From the confusion_matrix, it could be seen that the svc model had the lesser false positives which we want to minimize. So we use the svc model as our final model."
   ]
  },
  {
   "cell_type": "code",
   "execution_count": 215,
   "metadata": {},
   "outputs": [],
   "source": [
    "final_model = grid_svc.best_estimator_.fit(X, y)"
   ]
  },
  {
   "cell_type": "code",
   "execution_count": 216,
   "metadata": {},
   "outputs": [
    {
     "data": {
      "text/plain": [
       "Pipeline(steps=[('rbs', RobustScaler()), ('pca', PCA(n_components=5)),\n",
       "                ('svc', SVC(C=0.1, class_weight='balanced'))])"
      ]
     },
     "execution_count": 216,
     "metadata": {},
     "output_type": "execute_result"
    }
   ],
   "source": [
    "final_model"
   ]
  },
  {
   "cell_type": "markdown",
   "metadata": {},
   "source": [
    "we can also use a fischers exact test bto determine if the observed values we are seeinng in the confusion matrix are not just random observations"
   ]
  },
  {
   "cell_type": "code",
   "execution_count": 235,
   "metadata": {},
   "outputs": [
    {
     "name": "stdout",
     "output_type": "stream",
     "text": [
      "fischers_test-statistic = 7.822222222222222, p_value = 4.6680253177079705e-08\n"
     ]
    }
   ],
   "source": [
    "# calculate the fischers exact statistic for the final model\n",
    "fiscer_value, p = stats.fisher_exact(disp.confusion_matrix)\n",
    "print(\n",
    "    'fischers_test-statistic = {}, p_value = {}'.format(fiscer_value, p))"
   ]
  },
  {
   "cell_type": "markdown",
   "metadata": {},
   "source": [
    "Since p value <<< 0.05, it shows that the observed frequenceies in the confusion matrix are not by random chance.\n",
    "Therfore, this final_model is the best for our purposes"
   ]
  },
  {
   "cell_type": "code",
   "execution_count": null,
   "metadata": {},
   "outputs": [],
   "source": []
  }
 ],
 "metadata": {
  "kernelspec": {
   "display_name": "Python 3",
   "language": "python",
   "name": "python3"
  },
  "language_info": {
   "codemirror_mode": {
    "name": "ipython",
    "version": 3
   },
   "file_extension": ".py",
   "mimetype": "text/x-python",
   "name": "python",
   "nbconvert_exporter": "python",
   "pygments_lexer": "ipython3",
   "version": "3.8.3"
  }
 },
 "nbformat": 4,
 "nbformat_minor": 4
}
